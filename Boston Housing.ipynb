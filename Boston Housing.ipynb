{
 "cells": [
  {
   "cell_type": "markdown",
   "metadata": {},
   "source": [
    "# Import Modules"
   ]
  },
  {
   "cell_type": "code",
   "execution_count": 1,
   "metadata": {},
   "outputs": [],
   "source": [
    "# TensorFlow and tf.keras\n",
    "import tensorflow\n",
    "from tensorflow.keras.models import Sequential\n",
    "from tensorflow.keras.layers import Dense\n",
    "import numpy as np\n",
    "import pandas as pd\n",
    "import matplotlib.pyplot as plt"
   ]
  },
  {
   "cell_type": "markdown",
   "metadata": {},
   "source": [
    "# Data preparation and Visualization"
   ]
  },
  {
   "cell_type": "code",
   "execution_count": 7,
   "metadata": {},
   "outputs": [],
   "source": [
    "(x_train, y_train), (x_test, y_test) = tensorflow.keras.datasets.boston_housing.load_data(path='boston_housing.npz')"
   ]
  },
  {
   "cell_type": "markdown",
   "metadata": {},
   "source": [
    "# Create Model"
   ]
  },
  {
   "cell_type": "code",
   "execution_count": 8,
   "metadata": {},
   "outputs": [
    {
     "name": "stdout",
     "output_type": "stream",
     "text": [
      "WARNING:tensorflow:From C:\\Users\\Wooshin\\Anaconda3\\lib\\site-packages\\tensorflow\\python\\ops\\resource_variable_ops.py:435: colocate_with (from tensorflow.python.framework.ops) is deprecated and will be removed in a future version.\n",
      "Instructions for updating:\n",
      "Colocations handled automatically by placer.\n",
      "WARNING:tensorflow:From C:\\Users\\Wooshin\\Anaconda3\\lib\\site-packages\\tensorflow\\python\\keras\\utils\\losses_utils.py:170: to_float (from tensorflow.python.ops.math_ops) is deprecated and will be removed in a future version.\n",
      "Instructions for updating:\n",
      "Use tf.cast instead.\n",
      "_________________________________________________________________\n",
      "Layer (type)                 Output Shape              Param #   \n",
      "=================================================================\n",
      "dense (Dense)                (None, 1)                 14        \n",
      "=================================================================\n",
      "Total params: 14\n",
      "Trainable params: 14\n",
      "Non-trainable params: 0\n",
      "_________________________________________________________________\n"
     ]
    }
   ],
   "source": [
    "model = Sequential()\n",
    "model.add(Dense(1, input_shape=[13]))\n",
    "model.compile(optimizer=\"rmsprop\", loss='mse') \n",
    "model.summary()"
   ]
  },
  {
   "cell_type": "markdown",
   "metadata": {},
   "source": [
    "- Sequential 함수는 입력 베타에서 출력 베타로 가는 sequence를 따름\n",
    "- Dense는 **y(출력차원)의 갯수**, input_shape는 **x(입력차원)의 갯수**\n",
    "- model.add를 추가로 삽입해서 hidden layer를 추가할 수 있다\n",
    "- optimizer는 최적화 과정 loss는 예측값과 정답값과의 차이를 제곱하여 평균한만큼 보정(mse)\n",
    "- 위까지의 과정은 y=ax+b 라는 신경망을 만든 것임"
   ]
  },
  {
   "cell_type": "markdown",
   "metadata": {},
   "source": [
    "# Train Model"
   ]
  },
  {
   "cell_type": "code",
   "execution_count": 9,
   "metadata": {},
   "outputs": [
    {
     "name": "stdout",
     "output_type": "stream",
     "text": [
      "WARNING:tensorflow:From C:\\Users\\Wooshin\\Anaconda3\\lib\\site-packages\\tensorflow\\python\\ops\\math_ops.py:3066: to_int32 (from tensorflow.python.ops.math_ops) is deprecated and will be removed in a future version.\n",
      "Instructions for updating:\n",
      "Use tf.cast instead.\n",
      "Epoch 1/100\n",
      "404/404 [==============================] - 0s 986us/sample - loss: 31954.2733\n",
      "Epoch 2/100\n",
      "404/404 [==============================] - 0s 100us/sample - loss: 27311.3770\n",
      "Epoch 3/100\n",
      "404/404 [==============================] - 0s 157us/sample - loss: 23844.0435\n",
      "Epoch 4/100\n",
      "404/404 [==============================] - 0s 103us/sample - loss: 20762.9183\n",
      "Epoch 5/100\n",
      "404/404 [==============================] - 0s 138us/sample - loss: 17959.8209\n",
      "Epoch 6/100\n",
      "404/404 [==============================] - 0s 99us/sample - loss: 15441.7371\n",
      "Epoch 7/100\n",
      "404/404 [==============================] - 0s 184us/sample - loss: 13198.4905\n",
      "Epoch 8/100\n",
      "404/404 [==============================] - 0s 109us/sample - loss: 11207.5025\n",
      "Epoch 9/100\n",
      "404/404 [==============================] - 0s 135us/sample - loss: 9464.9312\n",
      "Epoch 10/100\n",
      "404/404 [==============================] - 0s 69us/sample - loss: 7990.0001\n",
      "Epoch 11/100\n",
      "404/404 [==============================] - 0s 106us/sample - loss: 6747.8753\n",
      "Epoch 12/100\n",
      "404/404 [==============================] - 0s 178us/sample - loss: 5749.5657\n",
      "Epoch 13/100\n",
      "404/404 [==============================] - 0s 161us/sample - loss: 4982.4412\n",
      "Epoch 14/100\n",
      "404/404 [==============================] - 0s 130us/sample - loss: 4409.5721\n",
      "Epoch 15/100\n",
      "404/404 [==============================] - 0s 153us/sample - loss: 3982.3197\n",
      "Epoch 16/100\n",
      "404/404 [==============================] - 0s 134us/sample - loss: 3666.9015\n",
      "Epoch 17/100\n",
      "404/404 [==============================] - 0s 118us/sample - loss: 3394.6324\n",
      "Epoch 18/100\n",
      "404/404 [==============================] - 0s 98us/sample - loss: 3151.2937\n",
      "Epoch 19/100\n",
      "404/404 [==============================] - 0s 100us/sample - loss: 2926.8095\n",
      "Epoch 20/100\n",
      "404/404 [==============================] - 0s 90us/sample - loss: 2705.4516\n",
      "Epoch 21/100\n",
      "404/404 [==============================] - 0s 99us/sample - loss: 2485.4722\n",
      "Epoch 22/100\n",
      "404/404 [==============================] - 0s 151us/sample - loss: 2272.6510\n",
      "Epoch 23/100\n",
      "404/404 [==============================] - 0s 128us/sample - loss: 2064.7870\n",
      "Epoch 24/100\n",
      "404/404 [==============================] - 0s 158us/sample - loss: 1865.8327\n",
      "Epoch 25/100\n",
      "404/404 [==============================] - 0s 189us/sample - loss: 1677.4989\n",
      "Epoch 26/100\n",
      "404/404 [==============================] - 0s 161us/sample - loss: 1508.3507\n",
      "Epoch 27/100\n",
      "404/404 [==============================] - 0s 99us/sample - loss: 1356.6462\n",
      "Epoch 28/100\n",
      "404/404 [==============================] - 0s 99us/sample - loss: 1219.8261\n",
      "Epoch 29/100\n",
      "404/404 [==============================] - 0s 148us/sample - loss: 1095.2136\n",
      "Epoch 30/100\n",
      "404/404 [==============================] - 0s 99us/sample - loss: 979.5353\n",
      "Epoch 31/100\n",
      "404/404 [==============================] - 0s 99us/sample - loss: 872.4811\n",
      "Epoch 32/100\n",
      "404/404 [==============================] - 0s 89us/sample - loss: 773.6870\n",
      "Epoch 33/100\n",
      "404/404 [==============================] - 0s 149us/sample - loss: 685.9365\n",
      "Epoch 34/100\n",
      "404/404 [==============================] - 0s 89us/sample - loss: 609.1945\n",
      "Epoch 35/100\n",
      "404/404 [==============================] - 0s 119us/sample - loss: 544.5700\n",
      "Epoch 36/100\n",
      "404/404 [==============================] - 0s 282us/sample - loss: 488.2437\n",
      "Epoch 37/100\n",
      "404/404 [==============================] - 0s 163us/sample - loss: 443.4925\n",
      "Epoch 38/100\n",
      "404/404 [==============================] - 0s 79us/sample - loss: 404.0688\n",
      "Epoch 39/100\n",
      "404/404 [==============================] - 0s 89us/sample - loss: 369.4054\n",
      "Epoch 40/100\n",
      "404/404 [==============================] - 0s 69us/sample - loss: 345.0064\n",
      "Epoch 41/100\n",
      "404/404 [==============================] - 0s 89us/sample - loss: 323.6463\n",
      "Epoch 42/100\n",
      "404/404 [==============================] - 0s 99us/sample - loss: 305.8406\n",
      "Epoch 43/100\n",
      "404/404 [==============================] - ETA: 0s - loss: 459.142 - 0s 109us/sample - loss: 292.7183\n",
      "Epoch 44/100\n",
      "404/404 [==============================] - 0s 188us/sample - loss: 279.8898\n",
      "Epoch 45/100\n",
      "404/404 [==============================] - 0s 168us/sample - loss: 270.2877\n",
      "Epoch 46/100\n",
      "404/404 [==============================] - 0s 109us/sample - loss: 262.5585\n",
      "Epoch 47/100\n",
      "404/404 [==============================] - 0s 109us/sample - loss: 254.8464\n",
      "Epoch 48/100\n",
      "404/404 [==============================] - 0s 129us/sample - loss: 246.6889\n",
      "Epoch 49/100\n",
      "404/404 [==============================] - 0s 89us/sample - loss: 241.2276\n",
      "Epoch 50/100\n",
      "404/404 [==============================] - 0s 99us/sample - loss: 232.0780\n",
      "Epoch 51/100\n",
      "404/404 [==============================] - ETA: 0s - loss: 220.785 - 0s 99us/sample - loss: 226.1502\n",
      "Epoch 52/100\n",
      "404/404 [==============================] - 0s 89us/sample - loss: 220.4209\n",
      "Epoch 53/100\n",
      "404/404 [==============================] - 0s 195us/sample - loss: 213.4843\n",
      "Epoch 54/100\n",
      "404/404 [==============================] - 0s 158us/sample - loss: 207.4606\n",
      "Epoch 55/100\n",
      "404/404 [==============================] - 0s 110us/sample - loss: 200.2149\n",
      "Epoch 56/100\n",
      "404/404 [==============================] - 0s 99us/sample - loss: 195.5757\n",
      "Epoch 57/100\n",
      "404/404 [==============================] - 0s 129us/sample - loss: 186.5410\n",
      "Epoch 58/100\n",
      "404/404 [==============================] - 0s 109us/sample - loss: 183.2713\n",
      "Epoch 59/100\n",
      "404/404 [==============================] - 0s 79us/sample - loss: 177.7603\n",
      "Epoch 60/100\n",
      "404/404 [==============================] - 0s 79us/sample - loss: 171.9564\n",
      "Epoch 61/100\n",
      "404/404 [==============================] - 0s 89us/sample - loss: 166.6057\n",
      "Epoch 62/100\n",
      "404/404 [==============================] - 0s 99us/sample - loss: 161.8982\n",
      "Epoch 63/100\n",
      "404/404 [==============================] - 0s 129us/sample - loss: 157.2909\n",
      "Epoch 64/100\n",
      "404/404 [==============================] - 0s 129us/sample - loss: 152.1909\n",
      "Epoch 65/100\n",
      "404/404 [==============================] - 0s 119us/sample - loss: 147.8992\n",
      "Epoch 66/100\n",
      "404/404 [==============================] - 0s 109us/sample - loss: 142.5268\n",
      "Epoch 67/100\n",
      "404/404 [==============================] - 0s 109us/sample - loss: 137.0300\n",
      "Epoch 68/100\n",
      "404/404 [==============================] - 0s 119us/sample - loss: 135.2477\n",
      "Epoch 69/100\n",
      "404/404 [==============================] - 0s 69us/sample - loss: 128.8282\n",
      "Epoch 70/100\n",
      "404/404 [==============================] - 0s 79us/sample - loss: 125.0986\n",
      "Epoch 71/100\n",
      "404/404 [==============================] - 0s 69us/sample - loss: 120.3887\n",
      "Epoch 72/100\n",
      "404/404 [==============================] - 0s 79us/sample - loss: 117.0046\n",
      "Epoch 73/100\n",
      "404/404 [==============================] - 0s 89us/sample - loss: 112.1295\n",
      "Epoch 74/100\n",
      "404/404 [==============================] - 0s 79us/sample - loss: 108.9960\n",
      "Epoch 75/100\n",
      "404/404 [==============================] - 0s 89us/sample - loss: 105.0354\n",
      "Epoch 76/100\n",
      "404/404 [==============================] - 0s 109us/sample - loss: 102.4619\n",
      "Epoch 77/100\n",
      "404/404 [==============================] - 0s 69us/sample - loss: 99.4362\n",
      "Epoch 78/100\n",
      "404/404 [==============================] - 0s 69us/sample - loss: 96.3868\n",
      "Epoch 79/100\n",
      "404/404 [==============================] - 0s 69us/sample - loss: 93.5241\n",
      "Epoch 80/100\n",
      "404/404 [==============================] - 0s 79us/sample - loss: 89.8654\n",
      "Epoch 81/100\n",
      "404/404 [==============================] - 0s 89us/sample - loss: 86.9614\n",
      "Epoch 82/100\n",
      "404/404 [==============================] - 0s 99us/sample - loss: 84.5571\n",
      "Epoch 83/100\n",
      "404/404 [==============================] - 0s 99us/sample - loss: 82.6089\n",
      "Epoch 84/100\n",
      "404/404 [==============================] - 0s 89us/sample - loss: 80.1660\n",
      "Epoch 85/100\n",
      "404/404 [==============================] - 0s 79us/sample - loss: 76.7581\n",
      "Epoch 86/100\n",
      "404/404 [==============================] - 0s 79us/sample - loss: 75.0179\n",
      "Epoch 87/100\n",
      "404/404 [==============================] - 0s 69us/sample - loss: 73.3616\n",
      "Epoch 88/100\n",
      "404/404 [==============================] - 0s 89us/sample - loss: 70.5708\n",
      "Epoch 89/100\n",
      "404/404 [==============================] - 0s 69us/sample - loss: 69.6120\n",
      "Epoch 90/100\n",
      "404/404 [==============================] - 0s 129us/sample - loss: 67.0113\n",
      "Epoch 91/100\n",
      "404/404 [==============================] - 0s 69us/sample - loss: 65.7398\n",
      "Epoch 92/100\n",
      "404/404 [==============================] - 0s 79us/sample - loss: 63.7653\n",
      "Epoch 93/100\n",
      "404/404 [==============================] - 0s 69us/sample - loss: 63.4303\n",
      "Epoch 94/100\n",
      "404/404 [==============================] - 0s 69us/sample - loss: 61.3854\n",
      "Epoch 95/100\n",
      "404/404 [==============================] - 0s 69us/sample - loss: 61.3359\n",
      "Epoch 96/100\n",
      "404/404 [==============================] - 0s 79us/sample - loss: 59.3206\n",
      "Epoch 97/100\n",
      "404/404 [==============================] - 0s 79us/sample - loss: 58.2001\n",
      "Epoch 98/100\n",
      "404/404 [==============================] - 0s 79us/sample - loss: 57.4155\n",
      "Epoch 99/100\n",
      "404/404 [==============================] - 0s 79us/sample - loss: 56.0918\n",
      "Epoch 100/100\n",
      "404/404 [==============================] - 0s 79us/sample - loss: 54.6293\n"
     ]
    },
    {
     "data": {
      "text/plain": [
       "<tensorflow.python.keras.callbacks.History at 0x247ac005ba8>"
      ]
     },
     "execution_count": 9,
     "metadata": {},
     "output_type": "execute_result"
    }
   ],
   "source": [
    "model.fit(x_train, y_train, epochs=100)"
   ]
  },
  {
   "cell_type": "markdown",
   "metadata": {},
   "source": [
    "- 실험치 100번을 돌림, 100자리에 1000 또는 그 이상의 숫자도 가능"
   ]
  },
  {
   "cell_type": "markdown",
   "metadata": {},
   "source": [
    "# Evaluate Model"
   ]
  },
  {
   "cell_type": "code",
   "execution_count": 10,
   "metadata": {},
   "outputs": [
    {
     "name": "stdout",
     "output_type": "stream",
     "text": [
      "102/102 [==============================] - 0s 813us/sample - loss: 68.3786\n"
     ]
    },
    {
     "data": {
      "text/plain": [
       "68.37859987745098"
      ]
     },
     "execution_count": 10,
     "metadata": {},
     "output_type": "execute_result"
    }
   ],
   "source": [
    "model.evaluate(x_test, y_test)"
   ]
  },
  {
   "cell_type": "markdown",
   "metadata": {},
   "source": [
    "- x_test와 y_test는 train을 통한 데이터 검증을 위해 일부러 테스트 전용으로 빼놓은 데이터"
   ]
  },
  {
   "cell_type": "code",
   "execution_count": 11,
   "metadata": {},
   "outputs": [
    {
     "name": "stdout",
     "output_type": "stream",
     "text": [
      "(None, 13)\n",
      "(None, 1)\n"
     ]
    }
   ],
   "source": [
    "print(model.input_shape)\n",
    "print(model.output_shape)"
   ]
  },
  {
   "cell_type": "markdown",
   "metadata": {},
   "source": [
    "# Model Prediction"
   ]
  },
  {
   "cell_type": "code",
   "execution_count": 12,
   "metadata": {},
   "outputs": [
    {
     "data": {
      "text/plain": [
       "array([[-6.361251]], dtype=float32)"
      ]
     },
     "execution_count": 12,
     "metadata": {},
     "output_type": "execute_result"
    }
   ],
   "source": [
    "model.predict(np.array([0, 1, 50, 1, 0, 5, .5, 10, 1000, 100, 10, 100, 1]).reshape(1,13))"
   ]
  },
  {
   "cell_type": "code",
   "execution_count": 13,
   "metadata": {},
   "outputs": [
    {
     "data": {
      "text/plain": [
       "array([[52.577354]], dtype=float32)"
      ]
     },
     "execution_count": 13,
     "metadata": {},
     "output_type": "execute_result"
    }
   ],
   "source": [
    "model.predict(np.array([23, 341, 50, 1, 0, 5, .7, 10, 1000, 100, 10, 100, 1]).reshape(1,13))"
   ]
  },
  {
   "cell_type": "code",
   "execution_count": null,
   "metadata": {},
   "outputs": [],
   "source": []
  }
 ],
 "metadata": {
  "kernelspec": {
   "display_name": "Python 3",
   "language": "python",
   "name": "python3"
  },
  "language_info": {
   "codemirror_mode": {
    "name": "ipython",
    "version": 3
   },
   "file_extension": ".py",
   "mimetype": "text/x-python",
   "name": "python",
   "nbconvert_exporter": "python",
   "pygments_lexer": "ipython3",
   "version": "3.7.1"
  }
 },
 "nbformat": 4,
 "nbformat_minor": 2
}
